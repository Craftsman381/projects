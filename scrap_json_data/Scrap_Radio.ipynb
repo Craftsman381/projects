{
 "cells": [
  {
   "cell_type": "code",
   "execution_count": null,
   "metadata": {},
   "outputs": [],
   "source": [
    "import requests\n",
    "import pandas as pd\n",
    "import mysql.connector\n",
    "from datetime import datetime\n",
    "\n",
    "table_name = 'radio_data' #this is table name\n",
    "df = pd.read_csv('station_links.csv', usecols =[0], squeeze = True) #reading links from file here\n",
    "print(\"Total no of URLs: {}\".format(len(df.tolist()))) #print total no of links in file"
   ]
  },
  {
   "cell_type": "code",
   "execution_count": null,
   "metadata": {
    "scrolled": false
   },
   "outputs": [],
   "source": [
    "#Establishing connection with database \n",
    "def connect_with_db():\n",
    "    db = mysql.connector.connect(\n",
    "        host = \"your-ip\",\n",
    "        database = \"your-db-name\",\n",
    "        user = \"your-user-name\",\n",
    "        password = \"your-db-password\",\n",
    "        auth_plugin = \"mysql_native_password\",\n",
    "    )\n",
    "    if db:\n",
    "        print('Connection Established')\n",
    "        cursor = db.cursor()\n",
    "        cursor.execute('SELECT DATABASE()')\n",
    "        print('Current Database Name : ',cursor.fetchall()[0][0])\n",
    "        return db\n",
    "    else:\n",
    "        print('Connection Denied')\n",
    "        return db\n",
    "mydb = connect_with_db()"
   ]
  },
  {
   "cell_type": "code",
   "execution_count": null,
   "metadata": {},
   "outputs": [],
   "source": [
    "def create_table(table_name,mydb):\n",
    "    try:\n",
    "        if mydb:\n",
    "            cursor = mydb.cursor()\n",
    "            create_table_sql = \"CREATE TABLE {} (\\\n",
    "                                    data_id BIGINT PRIMARY KEY AUTO_INCREMENT NOT NULL, \\\n",
    "                                    source_type VARCHAR(255) NOT NULL, \\\n",
    "                                    station_name VARCHAR(255) NOT NULL , \\\n",
    "                                    artist_name VARCHAR(255) UNIQUE KEY NOT NULL, \\\n",
    "                                    song_title VARCHAR(255) UNIQUE KEY NOT NULL, \\\n",
    "                                    listeners INT NOT NULL, \\\n",
    "                                    date_time DATETIME NOT NULL)\".format(table_name)\n",
    "            \n",
    "            cursor.execute(create_table_sql)\n",
    "            print('[INFO..] Table {} Created Successfully.'.format(table_name))\n",
    "        else:\n",
    "            print('Connection Denied')\n",
    "\n",
    "    except Exception as E:\n",
    "        print(E)\n",
    "        \n",
    "#if you want to create table in database run this fuction\n",
    "create_table(table_name,mydb)"
   ]
  },
  {
   "cell_type": "code",
   "execution_count": null,
   "metadata": {},
   "outputs": [],
   "source": [
    "def insert_data(table_name, count, *argv):\n",
    "    if mydb:\n",
    "        cursor = mydb.cursor() \n",
    "        cursor.execute('SELECT MAX(data_id) FROM radio_data;')\n",
    "        last_id = cursor.fetchall()[0][0]\n",
    "        if last_id == None:\n",
    "            count = 0\n",
    "        else:\n",
    "            count = last_id\n",
    "        count += 1\n",
    "        insert_sql = 'INSERT INTO {} (data_id , source_type, station_name, artist_name, song_title, listeners, date_time) VALUES ({}, \"{}\", \"{}\", \"{}\", \"{}\", {}, \"{}\")'.format(table_name,count,argv[0],argv[1],argv[2],argv[3],argv[4],argv[5])\n",
    "        cursor.execute(insert_sql)\n",
    "        mydb.commit()\n",
    "    else:\n",
    "        print('Connection denied')\n",
    "\n",
    "def parse_data(dic):\n",
    "    date_time = datetime.now().strftime('%Y-%m-%d %H:%M:%S')\n",
    "    a_name , s_name = dic['streams'][0]['songtitle'].split(' - ')\n",
    "    source_type = dic['streams'][0]['content'].replace('\\\\/','/')\n",
    "    return source_type, dic['streams'][0]['servertitle'], a_name, s_name, dic['currentlisteners'], date_time"
   ]
  },
  {
   "cell_type": "code",
   "execution_count": null,
   "metadata": {
    "scrolled": true
   },
   "outputs": [],
   "source": [
    "count = 0\n",
    "while(True):\n",
    "    for i,URL in enumerate(df.tolist()):\n",
    "        try:\n",
    "            dic = eval(requests.get(URL).text)\n",
    "            try:\n",
    "                song_type, server_name, artist_name, song_name, listeners, time_stamp = parse_data(dic)\n",
    "                insert_data(table_name, count, song_type, server_name, artist_name, song_name, listeners, time_stamp)\n",
    "                print('\\n[INFO] Inserted Sucessfully.\\n')\n",
    "            except Exception as E:\n",
    "                #print('```\\n', E, '\\n```')\n",
    "                continue\n",
    "            count += 1 \n",
    "        except Exception as E:\n",
    "            #print('~~~\\n', E, '\\n~~~')            \n",
    "            continue\n"
   ]
  },
  {
   "cell_type": "code",
   "execution_count": null,
   "metadata": {},
   "outputs": [],
   "source": [
    "#you should not run this it will delete your table in database, it is just for debugging purpose\n",
    "def delete_table(table_name):\n",
    "    try:\n",
    "        if mydb:\n",
    "            cursor = mydb.cursor()\n",
    "            delete_table_sql = 'DROP TABLE {}'.format(table_name)\n",
    "            cursor.execute(delete_table_sql)\n",
    "            print('[INFO..] Table {} Successfull Deleted...'.format(table_name))\n",
    "        else:\n",
    "            print('Connection Failed')\n",
    "    except Exception as E:\n",
    "        print(E)\n",
    "\n",
    "# delete_table(table_name)"
   ]
  }
 ],
 "metadata": {
  "kernelspec": {
   "display_name": "Python 3",
   "language": "python",
   "name": "python3"
  },
  "language_info": {
   "codemirror_mode": {
    "name": "ipython",
    "version": 3
   },
   "file_extension": ".py",
   "mimetype": "text/x-python",
   "name": "python",
   "nbconvert_exporter": "python",
   "pygments_lexer": "ipython3",
   "version": "3.7.1"
  }
 },
 "nbformat": 4,
 "nbformat_minor": 4
}
